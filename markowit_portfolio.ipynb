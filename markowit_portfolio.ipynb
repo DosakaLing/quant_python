{
 "cells": [
  {
   "cell_type": "code",
   "execution_count": 3,
   "metadata": {},
   "outputs": [
    {
     "data": {
      "image/png": "[encoded data removed]",
      "text/plain": [
       "<Figure size 432x288 with 1 Axes>"
      ]
     },
     "metadata": {
      "needs_background": "light"
     },
     "output_type": "display_data"
    }
   ],
   "source": [
    "%matplotlib inline\n",
    "import numpy as np\n",
    "import pandas as pd\n",
    "stock = pd.read_table('part 3/019/stock.txt',sep='\\t',index_col='Trddt')\n",
    "fjgs=stock.loc[stock.Stkcd==600033,'Dretwd']\n",
    "fjgs.name = 'fjgs'\n",
    "zndl=stock.loc[stock.Stkcd==600023,'Dretwd']\n",
    "zndl.name = 'zndl'\n",
    "sykj=stock.loc[stock.Stkcd==600183,'Dretwd']\n",
    "sykj.name = 'sykj'\n",
    "hxyh=stock.loc[stock.Stkcd==600015,'Dretwd']\n",
    "hxyh.name = 'hxyh'\n",
    "byjc=stock.loc[stock.Stkcd==600004,'Dretwd']\n",
    "byjc.name = 'byjc'\n",
    "sh_return = pd.concat([byjc,fjgs,hxyh,sykj,zndl],axis=1)\n",
    "sh_return = sh_return.dropna()\n",
    "\n",
    "\n",
    "from scipy import linalg\n",
    "import pandas as pd\n",
    "import ffn\n",
    "import matplotlib.pyplot as plt\n",
    "import numpy as np\n",
    "#import ffn\n",
    "class MeanVariance:\n",
    "    def __init__(self,returns):\n",
    "        self.returns = returns\n",
    "    def minVar(self,goalRet):\n",
    "        covs = np.array(self.returns.cov())#协方差矩阵\n",
    "        means = np.array(self.returns.mean())#收益率均值\n",
    "        L1 = np.append(np.append(covs.swapaxes(0,1),[means],0),\n",
    "                      [np.ones(len(means))],0).swapaxes(0,1)\n",
    "        L2 = list(np.ones(len(means)))\n",
    "        L2.extend([0,0])\n",
    "        L3 = list(means)\n",
    "        L3.extend([0,0])\n",
    "        L4 = np.array([L2,L3])\n",
    "        L = np.append(L1,L4,0)\n",
    "        results = linalg.solve(L,np.append(np.zeros(len(means)),[1,goalRet],0))\n",
    "        return(np.array([list(self.returns.columns),results[:-2]]))\n",
    "    def frontierCurve(self):\n",
    "        goals = [x/500000 for x in range(-100,4000)] #目标收益\n",
    "        variances = list(map(lambda x: self.calVar(self.minVar(x)[1,:].astype(np.float)),goals))\n",
    "        plt.plot(variances,goals)\n",
    "    def meanRet(self,fracs):\n",
    "        meanRisky = ffn.to_returns(self.returns).mean()\n",
    "        assert len(meanrISKY)== len(fracs), '比例的长度等于资产的数量'\n",
    "        return (np.sum(np.multiply(meanRisky,np.array(fracs))))\n",
    "    def calVar(self,fracs):\n",
    "        return(np.dot(np.dot(fracs,self.returns.cov()),fracs))\n",
    "\n",
    "minVar=MeanVariance(sh_return)\n",
    "minVar.frontierCurve()"
   ]
  },
  {
   "cell_type": "code",
   "execution_count": 2,
   "metadata": {},
   "outputs": [
    {
     "data": {
      "text/html": [
       "<div>\n",
       "<style scoped>\n",
       "    .dataframe tbody tr th:only-of-type {\n",
       "        vertical-align: middle;\n",
       "    }\n",
       "\n",
       "    .dataframe tbody tr th {\n",
       "        vertical-align: top;\n",
       "    }\n",
       "\n",
       "    .dataframe thead th {\n",
       "        text-align: right;\n",
       "    }\n",
       "</style>\n",
       "<table border=\"1\" class=\"dataframe\">\n",
       "  <thead>\n",
       "    <tr style=\"text-align: right;\">\n",
       "      <th></th>\n",
       "      <th>byjc</th>\n",
       "      <th>fjgs</th>\n",
       "      <th>hxyh</th>\n",
       "      <th>sykj</th>\n",
       "      <th>zndl</th>\n",
       "    </tr>\n",
       "    <tr>\n",
       "      <th>Trddt</th>\n",
       "      <th></th>\n",
       "      <th></th>\n",
       "      <th></th>\n",
       "      <th></th>\n",
       "      <th></th>\n",
       "    </tr>\n",
       "  </thead>\n",
       "  <tbody>\n",
       "    <tr>\n",
       "      <th>2014/1/2</th>\n",
       "      <td>-0.001439</td>\n",
       "      <td>0.000000</td>\n",
       "      <td>-0.031505</td>\n",
       "      <td>0.002024</td>\n",
       "      <td>0.008876</td>\n",
       "    </tr>\n",
       "    <tr>\n",
       "      <th>2014/1/3</th>\n",
       "      <td>-0.008646</td>\n",
       "      <td>0.004673</td>\n",
       "      <td>-0.028916</td>\n",
       "      <td>-0.012121</td>\n",
       "      <td>-0.013196</td>\n",
       "    </tr>\n",
       "    <tr>\n",
       "      <th>2014/1/6</th>\n",
       "      <td>-0.018895</td>\n",
       "      <td>-0.023256</td>\n",
       "      <td>-0.023573</td>\n",
       "      <td>-0.026585</td>\n",
       "      <td>0.005944</td>\n",
       "    </tr>\n",
       "    <tr>\n",
       "      <th>2014/1/7</th>\n",
       "      <td>-0.007407</td>\n",
       "      <td>0.004762</td>\n",
       "      <td>-0.003812</td>\n",
       "      <td>0.021008</td>\n",
       "      <td>-0.013294</td>\n",
       "    </tr>\n",
       "    <tr>\n",
       "      <th>2014/1/8</th>\n",
       "      <td>0.005970</td>\n",
       "      <td>-0.014218</td>\n",
       "      <td>0.021684</td>\n",
       "      <td>-0.014403</td>\n",
       "      <td>0.008982</td>\n",
       "    </tr>\n",
       "  </tbody>\n",
       "</table>\n",
       "</div>"
      ],
      "text/plain": [
       "              byjc      fjgs      hxyh      sykj      zndl\n",
       "Trddt                                                     \n",
       "2014/1/2 -0.001439  0.000000 -0.031505  0.002024  0.008876\n",
       "2014/1/3 -0.008646  0.004673 -0.028916 -0.012121 -0.013196\n",
       "2014/1/6 -0.018895 -0.023256 -0.023573 -0.026585  0.005944\n",
       "2014/1/7 -0.007407  0.004762 -0.003812  0.021008 -0.013294\n",
       "2014/1/8  0.005970 -0.014218  0.021684 -0.014403  0.008982"
      ]
     },
     "execution_count": 2,
     "metadata": {},
     "output_type": "execute_result"
    }
   ],
   "source": [
    "sh_return.head()"
   ]
  },
  {
   "cell_type": "code",
   "execution_count": null,
   "metadata": {},
   "outputs": [],
   "source": []
  }
 ],
 "metadata": {
  "kernelspec": {
   "display_name": "Python 3",
   "language": "python",
   "name": "python3"
  },
  "language_info": {
   "codemirror_mode": {
    "name": "ipython",
    "version": 3
   },
   "file_extension": ".py",
   "mimetype": "text/x-python",
   "name": "python",
   "nbconvert_exporter": "python",
   "pygments_lexer": "ipython3",
   "version": "3.7.1"
  }
 },
 "nbformat": 4,
 "nbformat_minor": 2
}
